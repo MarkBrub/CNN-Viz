{
 "cells": [
  {
   "cell_type": "markdown",
   "id": "1d0dbd87",
   "metadata": {},
   "source": [
    "# Lab: CNN Visualization\n",
    "*Mark Brubaker & Eli Mann*"
   ]
  },
  {
   "cell_type": "markdown",
   "id": "e6c9adcb",
   "metadata": {},
   "source": [
    " ## In groups, you should select a convolutional neural network model that has been pre-trained on a large dataset (preferably, ImageNet).\n",
    "*These already trained models are readily available online through many mechanisms, including the keras.application package (Inception, Xception, VGG etc.) https://keras.io/api/applications/Links to an external site.*\n",
    "*It is recommended to select a model with somewhat simple structure, like VGG. This can help to simplify how to extract specific filters and inputs to filters later on.*\n",
    "*Explain the model you chose and why.  Classify a few images with pre-trained network to verify that it is working properly.*"
   ]
  },
  {
   "cell_type": "markdown",
   "id": "46e0ae4f",
   "metadata": {},
   "source": [
    " ## Select a multi-channel filter (i.e., a feature) in a layer in which to analyze as part of a circuit.\n",
    "*This should be a multi-channel filter in a \"mid-level\" portion of the network (that is, there are a few convolutional layers before and after this chosen layer). You might find using OpenAI microscope a helpful tool for selecting a filter to analyze without writing too much code: https://microscope.openai.com/models/Links to an external site.*\n",
    "* *Using image gradient techniques, find an input image that maximally excites this chosen multi-channel filter. General techniques are available from class:https://github.com/8000net/LectureNotesMaster/blob/master/04%20LectureVisualizingConvnets.ipynbLinks to an external site.*\n",
    "* *Also send images of varying class (i.e. from ImageNet) through the network and track which classes of images most excite your chosen filter.*\n",
    "* *Give a hypothesis for what this multi-channel filter might be extracting. That is, what do you think its function is in the network?*\n",
    "* *If using code from another source, you must heavily document the code so that I can grade your understanding of the code used.*"
   ]
  },
  {
   "cell_type": "markdown",
   "id": "6f2915fd",
   "metadata": {},
   "source": [
    "## Analyze each channel of the multi-channel filter to this feature that might form a circuit.\n",
    "*That is, visualize the convolutional filter (one channel) between the input activations and the current activation to understand which inputs make up a circuit. One method of doing this is given below:*\n",
    "* *Extract the filter coefficients for each input activation to that multi-channel filter. Note: If the multi-channel filter is 5x5 with an input channel size of 64, then this extraction will result in 64 different single channel filters, each of size 5x5.*\n",
    "* *Keep the top six sets of inputs with the \"strongest\" weights. For now, you can use the L2 norm of each input filter as a measure of strength. Visualize these top six filters.*\n",
    "* *For these six strongest input filters, categorize each as \"mostly inhibitory\" or \"mostly excitatory.\" That is, does each filter consist of mostly negative or mostly positive coefficients?*"
   ]
  },
  {
   "cell_type": "markdown",
   "id": "17450fb3",
   "metadata": {},
   "source": [
    "## For each of the six chosen single channels of the filter, use image gradient techniques to visualize what each of these filters is most excited by\n",
    "*That is, what image maximally excites each of these filters. This is a similar analysis to the first step, but now isolating the filters directly before your chosen filter.*\n",
    "* *Use these visualizations, along with the circuit weights you just discovered to try and explain how this particular circuit works. An example of this visualization style can be seen here: https://storage.googleapis.com/distill-circuits/inceptionv1-weight-explorer/mixed3b_379.htmlLinks to an external site.*\n",
    "* *Try to define the properties of this circuit using vocabulary from https://distill.pub/2020/circuits/zoom-in/Links to an external site. (such as determining if this is polysemantic, pose-invariant, etc.)*\n",
    "* *Relate your visualizations back to your original hypothesis about what this filter is extracting. Does it support or refute your hypothesis? Why?*"
   ]
  }
 ],
 "metadata": {
  "kernelspec": {
   "display_name": "Python 3 (ipykernel)",
   "language": "python",
   "name": "python3"
  },
  "language_info": {
   "codemirror_mode": {
    "name": "ipython",
    "version": 3
   },
   "file_extension": ".py",
   "mimetype": "text/x-python",
   "name": "python",
   "nbconvert_exporter": "python",
   "pygments_lexer": "ipython3",
   "version": "3.7.7"
  }
 },
 "nbformat": 4,
 "nbformat_minor": 5
}
